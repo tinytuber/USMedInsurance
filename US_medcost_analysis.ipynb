{
 "cells": [
  {
   "cell_type": "markdown",
   "metadata": {},
   "source": [
    "# U.S. Medical Insurance Costs"
   ]
  },
  {
   "cell_type": "markdown",
   "metadata": {},
   "source": [
    "I will be examining the medical insurance cost dataset. My main goal is to see how each variable affects the cost of the insurance and how heavily they play a role in the adjustments."
   ]
  },
  {
   "cell_type": "code",
   "execution_count": 25,
   "metadata": {},
   "outputs": [],
   "source": [
    "import pandas as pd\n",
    "import numpy as np\n",
    "import scipy.stats as stats\n",
    "from statsmodels.stats.multicomp import pairwise_tukeyhsd\n",
    "import matplotlib.pyplot as plt"
   ]
  },
  {
   "cell_type": "code",
   "execution_count": 6,
   "metadata": {},
   "outputs": [
    {
     "name": "stdout",
     "output_type": "stream",
     "text": [
      "      age     sex     bmi  children smoker     region      charges\n",
      "0      19  female  27.900         0    yes  southwest  16884.92400\n",
      "1      18    male  33.770         1     no  southeast   1725.55230\n",
      "2      28    male  33.000         3     no  southeast   4449.46200\n",
      "3      33    male  22.705         0     no  northwest  21984.47061\n",
      "4      32    male  28.880         0     no  northwest   3866.85520\n",
      "...   ...     ...     ...       ...    ...        ...          ...\n",
      "1333   50    male  30.970         3     no  northwest  10600.54830\n",
      "1334   18  female  31.920         0     no  northeast   2205.98080\n",
      "1335   18  female  36.850         0     no  southeast   1629.83350\n",
      "1336   21  female  25.800         0     no  southwest   2007.94500\n",
      "1337   61  female  29.070         0    yes  northwest  29141.36030\n",
      "\n",
      "[1338 rows x 7 columns]\n"
     ]
    }
   ],
   "source": [
    "insData = pd.read_csv('insurance.csv')\n",
    "print(insData)"
   ]
  },
  {
   "cell_type": "markdown",
   "metadata": {},
   "source": [
    "Now that I have imported my insurance data, I want to run analyses on the data set. The first thing I want to see is the ratio of male vs female customers."
   ]
  },
  {
   "cell_type": "code",
   "execution_count": 7,
   "metadata": {},
   "outputs": [
    {
     "name": "stdout",
     "output_type": "stream",
     "text": [
      "There are 676 male customers and 662 female customers in this dataset\n"
     ]
    }
   ],
   "source": [
    "male = 0\n",
    "female = 0\n",
    "for x in range(len(insData)):\n",
    "    if insData['sex'][x] == 'female':\n",
    "        female += 1\n",
    "    else:\n",
    "        male += 1\n",
    "print('There are {maleCount} male customers and {femaleCount} female customers in this dataset'.format(maleCount=male,femaleCount=female))"
   ]
  },
  {
   "cell_type": "markdown",
   "metadata": {},
   "source": [
    "There are roughly the same number of male and female respondents. I want to find the average insurance cost for each sex to determine if it is statistically significant."
   ]
  },
  {
   "cell_type": "code",
   "execution_count": 8,
   "metadata": {},
   "outputs": [
    {
     "name": "stdout",
     "output_type": "stream",
     "text": [
      "Men on average pay $13956.751177721886 while women on average pay $12569.57884383534.\n"
     ]
    }
   ],
   "source": [
    "maleCost = 0\n",
    "femaleCost = 0\n",
    "for x in range(len(insData)):\n",
    "    if insData['sex'][x] == 'female':\n",
    "        femaleCost += insData['charges'][x]\n",
    "    else:\n",
    "        maleCost += insData['charges'][x]\n",
    "avgMaleCost = maleCost/male\n",
    "avgFemaleCost = femaleCost/female\n",
    "print('Men on average pay ${mCount} while women on average pay ${fCount}.'.format(mCount=avgMaleCost,fCount=avgFemaleCost))"
   ]
  },
  {
   "cell_type": "code",
   "execution_count": 15,
   "metadata": {},
   "outputs": [
    {
     "name": "stdout",
     "output_type": "stream",
     "text": [
      "0.03613272100592976\n",
      "significant\n"
     ]
    }
   ],
   "source": [
    "maleIns = insData['charges'][insData['sex'] == 'male']\n",
    "femaleIns = insData['charges'][insData['sex'] == 'female']\n",
    "stat1, pval1 = stats.ttest_ind(maleIns, femaleIns)\n",
    "print(pval1)\n",
    "print('significant' if pval1 < 0.05 else 'insignficiant')"
   ]
  },
  {
   "cell_type": "markdown",
   "metadata": {},
   "source": [
    "By splitting insurance costs between male and female customers and running a t-test on the data, I found that there is a statistically significant difference between the two genders. I'd like to continue analyzing the dataset by figuring out how geographical regions affect the insurance cost."
   ]
  },
  {
   "cell_type": "code",
   "execution_count": 16,
   "metadata": {},
   "outputs": [
    {
     "name": "stdout",
     "output_type": "stream",
     "text": [
      "['southwest' 'southeast' 'northwest' 'northeast']\n"
     ]
    }
   ],
   "source": [
    "uniqueRegions = insData['region'].unique()\n",
    "print(uniqueRegions)"
   ]
  },
  {
   "cell_type": "code",
   "execution_count": 18,
   "metadata": {},
   "outputs": [
    {
     "name": "stdout",
     "output_type": "stream",
     "text": [
      "The southwest average is:12346.93737729231, the southeast average is: 14735.411437609895, the northwest average is: 12417.575373969228, and the northeast average is: 13406.3845163858\n"
     ]
    }
   ],
   "source": [
    "southwestIns = insData['charges'][insData['region'] == 'southwest']\n",
    "southeastIns = insData['charges'][insData['region'] == 'southeast']\n",
    "northwestIns = insData['charges'][insData['region'] == 'northwest']\n",
    "northeastIns = insData['charges'][insData['region'] == 'northeast']\n",
    "\n",
    "southwestInsAvg = np.mean(southwestIns)\n",
    "southeastInsAvg = np.mean(southeastIns)\n",
    "northwestInsAvg = np.mean(northwestIns)\n",
    "northeastInsAvg = np.mean(northeastIns)\n",
    "print('The southwest average is: ' + str(southwestInsAvg) + ', the southeast average is: ' + str(southeastInsAvg) + ', the northwest average is: ' + str(northwestInsAvg) + ', and the northeast average is: ' + str(northeastInsAvg))"
   ]
  },
  {
   "cell_type": "markdown",
   "metadata": {},
   "source": [
    "From a cursory look, it seems like customers in the southeast pay more on average than customers in the other regions. To further assess this data, I can run a hypothesis test to determine statistical signficance. I will use an ANOVA to reduce false positives."
   ]
  },
  {
   "cell_type": "code",
   "execution_count": 19,
   "metadata": {},
   "outputs": [
    {
     "name": "stdout",
     "output_type": "stream",
     "text": [
      "0.0308933560705201\n"
     ]
    }
   ],
   "source": [
    "fval1, pval2 = stats.f_oneway(southwestIns, southeastIns, northwestIns, northeastIns)\n",
    "print(pval2)"
   ]
  },
  {
   "cell_type": "markdown",
   "metadata": {},
   "source": [
    "Since the p-value is lower than my threshhold of 0.05, I will run a Tukey's range test to determine which of the regions is significant."
   ]
  },
  {
   "cell_type": "code",
   "execution_count": 21,
   "metadata": {},
   "outputs": [
    {
     "name": "stdout",
     "output_type": "stream",
     "text": [
      "       Multiple Comparison of Means - Tukey HSD, FWER=0.05       \n",
      "=================================================================\n",
      "  group1    group2   meandiff  p-adj    lower      upper   reject\n",
      "-----------------------------------------------------------------\n",
      "northeast northwest  -988.8091 0.7002 -3428.9473  1451.329  False\n",
      "northeast southeast  1329.0269 0.4754 -1044.9543 3703.0081  False\n",
      "northeast southwest -1059.4471 0.6584 -3499.5853  1380.691  False\n",
      "northwest southeast  2317.8361 0.0583    -54.212 4689.8842  False\n",
      "northwest southwest    -70.638    0.9 -2508.8955 2367.6195  False\n",
      "southeast southwest -2388.4741 0.0477 -4760.5221   -16.426   True\n",
      "-----------------------------------------------------------------\n"
     ]
    }
   ],
   "source": [
    "tukey_results = pairwise_tukeyhsd(insData['charges'], insData['region'], 0.05)\n",
    "print(tukey_results)"
   ]
  },
  {
   "cell_type": "markdown",
   "metadata": {},
   "source": [
    "The analysis shows that there is a statistically significant difference in costs between the customers in the southeast and southwest regions, but nowhere else. I will further illustrate this with a visual. "
   ]
  },
  {
   "cell_type": "code",
   "execution_count": 34,
   "metadata": {},
   "outputs": [
    {
     "data": {
      "image/png": "[encoded data removed]",
      "text/plain": [
       "<Figure size 432x288 with 1 Axes>"
      ]
     },
     "metadata": {
      "needs_background": "light"
     },
     "output_type": "display_data"
    }
   ],
   "source": [
    "ax = plt.subplot(1,1,1)\n",
    "regionIns = [southwestInsAvg, southeastInsAvg, northwestInsAvg, northeastInsAvg]\n",
    "plt.bar(range(len(regionIns)), regionIns)\n",
    "ax.set_xticks([0,1,2,3])\n",
    "ax.set_xticklabels(['southwest', 'southeast', 'northwest', 'northeast'])\n",
    "plt.xlabel('Insurance Regions')\n",
    "plt.ylabel('Insurance Costs')\n",
    "plt.title('Insurance prices per geographical region')\n",
    "plt.show()"
   ]
  },
  {
   "cell_type": "markdown",
   "metadata": {},
   "source": [
    "Visually, we can also see that the southwest and southeast regions have the largest difference in average cost. "
   ]
  },
  {
   "cell_type": "code",
   "execution_count": null,
   "metadata": {},
   "outputs": [],
   "source": []
  }
 ],
 "metadata": {
  "kernelspec": {
   "display_name": "Python 3",
   "language": "python",
   "name": "python3"
  },
  "language_info": {
   "codemirror_mode": {
    "name": "ipython",
    "version": 3
   },
   "file_extension": ".py",
   "mimetype": "text/x-python",
   "name": "python",
   "nbconvert_exporter": "python",
   "pygments_lexer": "ipython3",
   "version": "3.7.6"
  }
 },
 "nbformat": 4,
 "nbformat_minor": 4
}
